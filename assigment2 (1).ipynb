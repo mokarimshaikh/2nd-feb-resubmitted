{
 "cells": [
  {
   "cell_type": "code",
   "execution_count": 1,
   "id": "c06bc85d-389c-46e7-99c1-a4e98b76fec0",
   "metadata": {},
   "outputs": [],
   "source": [
    "# Q1"
   ]
  },
  {
   "cell_type": "code",
   "execution_count": 4,
   "id": "a59bd976-2aa1-430e-b09a-f9f8ecb1cefd",
   "metadata": {},
   "outputs": [
    {
     "name": "stdout",
     "output_type": "stream",
     "text": [
      "[1, 4, 9, 16, 25, 36]\n"
     ]
    }
   ],
   "source": [
    " # the for statement iterates through a collection or iterable object or generator function.\n",
    "\n",
    " #The while statement simply loops until a condition is False.\n",
    "\n",
    " # for loop\n",
    "\n",
    "l=[1,2,3,4,5,6]\n",
    "l1=[]\n",
    "\n",
    "for i in l:\n",
    "    i=i**2\n",
    "    l1.append(i)\n",
    "print(l1)    \n",
    "    "
   ]
  },
  {
   "cell_type": "code",
   "execution_count": 8,
   "id": "42da4f52-4096-40e3-bb55-c192d66fdd80",
   "metadata": {},
   "outputs": [
    {
     "name": "stdout",
     "output_type": "stream",
     "text": [
      "512\n"
     ]
    }
   ],
   "source": [
    " # while lopp\n",
    "# smallest power of 2 greater than 1000\n",
    "power_of_two=1\n",
    "while power_of_two <=500:\n",
    "    power_of_two=power_of_two*2\n",
    "    \n",
    "print(power_of_two)    "
   ]
  },
  {
   "cell_type": "code",
   "execution_count": 9,
   "id": "6b7f8426-b6a7-4755-a60b-94519e18cc2a",
   "metadata": {},
   "outputs": [],
   "source": [
    " # Q2."
   ]
  },
  {
   "cell_type": "code",
   "execution_count": 12,
   "id": "5970b7fd-56b5-4775-82f3-f515c2137a0e",
   "metadata": {},
   "outputs": [
    {
     "name": "stdout",
     "output_type": "stream",
     "text": [
      "sum of the first 10 natural numbers is : 55\n",
      "product of first 10 natural numbers is : 3628800\n"
     ]
    }
   ],
   "source": [
    "# using for loop\n",
    "sum_of_number=0\n",
    "product_of_number=1\n",
    "for i in range(1,11):\n",
    "    sum_of_number=sum_of_number+i\n",
    "    product_of_number=product_of_number*i\n",
    "    \n",
    "print(\"sum of the first 10 natural numbers is :\",sum_of_number)\n",
    "print(\"product of first 10 natural numbers is :\",product_of_number)"
   ]
  },
  {
   "cell_type": "code",
   "execution_count": 14,
   "id": "1719a97a-9d52-4c25-ac97-665d2dd92955",
   "metadata": {},
   "outputs": [
    {
     "name": "stdout",
     "output_type": "stream",
     "text": [
      "sum of the first 10 natural numbers is : 55\n",
      "product of first 10 natural numbers is : 3628800\n"
     ]
    }
   ],
   "source": [
    "# using while loop\n",
    "sum_of_number=0\n",
    "product_of_number=1\n",
    "counter=1\n",
    "while counter<=10:\n",
    "    sum_of_number=sum_of_number+counter\n",
    "    product_of_number=product_of_number*counter\n",
    "    counter=counter+1\n",
    "print(\"sum of the first 10 natural numbers is :\",sum_of_number)\n",
    "print(\"product of first 10 natural numbers is :\",product_of_number)"
   ]
  },
  {
   "cell_type": "code",
   "execution_count": 15,
   "id": "d2bb3209-1fc6-4936-abf6-223627c932be",
   "metadata": {},
   "outputs": [],
   "source": [
    "# Q3."
   ]
  },
  {
   "cell_type": "code",
   "execution_count": 2,
   "id": "06fab89f-9c44-4cfd-96e2-09776d53f3ad",
   "metadata": {},
   "outputs": [
    {
     "name": "stdin",
     "output_type": "stream",
     "text": [
      "enter your electricity unit/month :  310\n"
     ]
    },
    {
     "name": "stdout",
     "output_type": "stream",
     "text": [
      "2250.0\n"
     ]
    }
   ],
   "source": [
    "unit_of_elec=int(input(\"enter your electricity unit/month : \"))\n",
    "\n",
    "if unit_of_elec<=100:\n",
    "    \n",
    "    bill_amount=unit_of_elec*4.5\n",
    "    \n",
    "elif unit_of_elec  <=200 :\n",
    "    bill_amount= 100 * 4.5 + (unit_of_elec - 100) * 6\n",
    "    \n",
    "elif unit_of_elec <=300 :\n",
    "    \n",
    "    bill_amount= 100 * 4.5 + 100 * 6 + (unit_of_elec -200) * 10\n",
    "    \n",
    "else:\n",
    "    bill_amount= 100*4.5 + 100 * 6 + 100 * 10 + (unit_of_elec - 300) * 20\n",
    "    \n",
    "print(bill_amount)\n",
    "    "
   ]
  },
  {
   "cell_type": "code",
   "execution_count": 37,
   "id": "6ac655f2-2003-452a-9486-72201e58e5c9",
   "metadata": {},
   "outputs": [],
   "source": [
    "# Q4."
   ]
  },
  {
   "cell_type": "code",
   "execution_count": 40,
   "id": "8f2af258-3ef7-4afa-b1fe-3c2c0528fe51",
   "metadata": {},
   "outputs": [
    {
     "name": "stdout",
     "output_type": "stream",
     "text": [
      "[8, 64, 125, 216, 512, 1000, 1728, 2744, 3375, 4096, 5832, 8000, 10648, 13824, 15625, 17576, 21952, 27000, 32768, 39304, 42875, 46656, 54872, 64000, 74088, 85184, 91125, 97336, 110592, 125000, 140608, 157464, 166375, 175616, 195112, 216000, 238328, 262144, 274625, 287496, 314432, 343000, 373248, 405224, 421875, 438976, 474552, 512000, 551368, 592704, 614125, 636056, 681472, 729000, 778688, 830584, 857375, 884736, 941192, 1000000]\n"
     ]
    }
   ],
   "source": [
    "l1=[]\n",
    "for i in range(1,101):\n",
    "    i=i**3\n",
    "    if i % 4==0 or i % 5==0:\n",
    "        l1.append(i)\n",
    "print(l1)        \n",
    "        \n"
   ]
  },
  {
   "cell_type": "code",
   "execution_count": 47,
   "id": "04793e04-a410-474a-8423-b73e6e777181",
   "metadata": {},
   "outputs": [
    {
     "name": "stdout",
     "output_type": "stream",
     "text": [
      "[8, 64, 125, 216, 512, 1000, 1728, 2744, 3375, 4096, 5832, 8000, 10648, 13824, 15625, 17576, 21952, 27000, 32768, 39304, 42875, 46656, 54872, 64000, 74088, 85184, 91125, 97336, 110592, 125000, 140608, 157464, 166375, 175616, 195112, 216000, 238328, 262144, 274625, 287496, 314432, 343000, 373248, 405224, 421875, 438976, 474552, 512000, 551368, 592704, 614125, 636056, 681472, 729000, 778688, 830584, 857375, 884736, 941192, 1000000]\n"
     ]
    }
   ],
   "source": [
    "# using while loop\n",
    "lis=1\n",
    "l2=[]\n",
    "while lis<=100:\n",
    "    a=lis**3\n",
    "    if a % 4==0 or a % 5==0:\n",
    "        l2.append(a)\n",
    "        \n",
    "    lis=lis+1\n",
    "    \n",
    "    \n",
    "print(l2)    \n",
    "            \n",
    "            \n",
    "    "
   ]
  },
  {
   "cell_type": "code",
   "execution_count": 48,
   "id": "04f85dba-25d5-4965-91d8-1247d304e9c5",
   "metadata": {},
   "outputs": [],
   "source": [
    "# Q5."
   ]
  },
  {
   "cell_type": "code",
   "execution_count": 50,
   "id": "5d5e4567-b60e-46f1-ba75-8e4751dc94d9",
   "metadata": {},
   "outputs": [
    {
     "name": "stdout",
     "output_type": "stream",
     "text": [
      "number of vowels in string is : 12\n"
     ]
    }
   ],
   "source": [
    "string=\"I want to become a data scientist\"\n",
    "vowels=\"aeiouAEIOU\"\n",
    "count=0\n",
    "for i in string:\n",
    "    if i in vowels:\n",
    "        count=count+1\n",
    "        \n",
    "print(\"number of vowels in string is :\",count)        \n",
    "        "
   ]
  },
  {
   "cell_type": "code",
   "execution_count": null,
   "id": "b0dfbce7-a149-4b3e-8b3f-059a07017f1d",
   "metadata": {},
   "outputs": [],
   "source": []
  }
 ],
 "metadata": {
  "kernelspec": {
   "display_name": "Python 3 (ipykernel)",
   "language": "python",
   "name": "python3"
  },
  "language_info": {
   "codemirror_mode": {
    "name": "ipython",
    "version": 3
   },
   "file_extension": ".py",
   "mimetype": "text/x-python",
   "name": "python",
   "nbconvert_exporter": "python",
   "pygments_lexer": "ipython3",
   "version": "3.10.8"
  }
 },
 "nbformat": 4,
 "nbformat_minor": 5
}
